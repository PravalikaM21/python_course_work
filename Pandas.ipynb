{
  "nbformat": 4,
  "nbformat_minor": 0,
  "metadata": {
    "colab": {
      "provenance": [],
      "authorship_tag": "ABX9TyOtzBDkuXeRiJ7VyxJ+1JcY",
      "include_colab_link": true
    },
    "kernelspec": {
      "name": "python3",
      "display_name": "Python 3"
    },
    "language_info": {
      "name": "python"
    }
  },
  "cells": [
    {
      "cell_type": "markdown",
      "metadata": {
        "id": "view-in-github",
        "colab_type": "text"
      },
      "source": [
        "<a href=\"https://colab.research.google.com/github/PravalikaM21/python_course_work/blob/main/Pandas.ipynb\" target=\"_parent\"><img src=\"https://colab.research.google.com/assets/colab-badge.svg\" alt=\"Open In Colab\"/></a>"
      ]
    },
    {
      "cell_type": "code",
      "execution_count": null,
      "metadata": {
        "id": "JOD5jNZJ2Hir"
      },
      "outputs": [],
      "source": [
        "import pandas as pd"
      ]
    },
    {
      "cell_type": "markdown",
      "source": [
        "**Series**"
      ],
      "metadata": {
        "id": "BQ1866kND-jA"
      }
    },
    {
      "cell_type": "code",
      "source": [
        "prices=[2999,39485,67899,4938,4955]\n",
        "products = [\"wireless Earbuds\",\"smartphone\",\"laptop\",\"smartwatch\",\"Bluetooth speaker\"]\n",
        "product_prices = pd.Series(prices,index=products)\n",
        "print(product_prices)"
      ],
      "metadata": {
        "colab": {
          "base_uri": "https://localhost:8080/"
        },
        "id": "yc6i-P2D2L3L",
        "outputId": "f96c4efa-d407-4467-dd58-bfe5aed08c95"
      },
      "execution_count": null,
      "outputs": [
        {
          "output_type": "stream",
          "name": "stdout",
          "text": [
            "wireless Earbuds      2999\n",
            "smartphone           39485\n",
            "laptop               67899\n",
            "smartwatch            4938\n",
            "Bluetooth speaker     4955\n",
            "dtype: int64\n"
          ]
        }
      ]
    },
    {
      "cell_type": "code",
      "source": [
        "print(\"Mean:\",product_prices.mean())"
      ],
      "metadata": {
        "colab": {
          "base_uri": "https://localhost:8080/"
        },
        "id": "JBkkznXr2Rh3",
        "outputId": "4010ad48-ab3d-42ed-d237-cb1b9a23c5fe"
      },
      "execution_count": null,
      "outputs": [
        {
          "output_type": "stream",
          "name": "stdout",
          "text": [
            "Mean: 24055.2\n"
          ]
        }
      ]
    },
    {
      "cell_type": "code",
      "source": [
        "print(\"Sum:\",product_prices.sum())"
      ],
      "metadata": {
        "colab": {
          "base_uri": "https://localhost:8080/"
        },
        "id": "-rOKRfdv20Yp",
        "outputId": "f26eb50b-b524-4493-bd9a-a9756c6403e8"
      },
      "execution_count": null,
      "outputs": [
        {
          "output_type": "stream",
          "name": "stdout",
          "text": [
            "Sum: 120276\n"
          ]
        }
      ]
    },
    {
      "cell_type": "code",
      "source": [
        "print(\"Max:\",product_prices.max())"
      ],
      "metadata": {
        "colab": {
          "base_uri": "https://localhost:8080/"
        },
        "id": "EKodJDWe222V",
        "outputId": "9a73c24c-2209-439d-ed8c-23961c215cae"
      },
      "execution_count": null,
      "outputs": [
        {
          "output_type": "stream",
          "name": "stdout",
          "text": [
            "Max: 67899\n"
          ]
        }
      ]
    },
    {
      "cell_type": "code",
      "source": [
        "print(\"Min:\",product_prices.min())"
      ],
      "metadata": {
        "colab": {
          "base_uri": "https://localhost:8080/"
        },
        "id": "9ZGBBkcx25cT",
        "outputId": "b042b015-ef58-4e34-ce81-ccf34d333628"
      },
      "execution_count": null,
      "outputs": [
        {
          "output_type": "stream",
          "name": "stdout",
          "text": [
            "Min: 2999\n"
          ]
        }
      ]
    },
    {
      "cell_type": "code",
      "source": [
        "print(\"Head/(starting rows):\\n\",product_prices.head(3))"
      ],
      "metadata": {
        "colab": {
          "base_uri": "https://localhost:8080/"
        },
        "id": "voJ1tYCq27_G",
        "outputId": "232d9cea-ce7e-441d-f4d5-d840dbf6a384"
      },
      "execution_count": null,
      "outputs": [
        {
          "output_type": "stream",
          "name": "stdout",
          "text": [
            "Head/(starting rows):\n",
            " wireless Earbuds     2999\n",
            "smartphone          39485\n",
            "laptop              67899\n",
            "dtype: int64\n"
          ]
        }
      ]
    },
    {
      "cell_type": "code",
      "source": [
        "print(\"tail/(ending rows):\\n\",product_prices.tail(2))"
      ],
      "metadata": {
        "colab": {
          "base_uri": "https://localhost:8080/"
        },
        "id": "pdyq0ql03yqv",
        "outputId": "68f8b8d4-0842-4dbd-91e0-ff75cec0a246"
      },
      "execution_count": null,
      "outputs": [
        {
          "output_type": "stream",
          "name": "stdout",
          "text": [
            "tail/(ending rows):\n",
            " smartwatch           4938\n",
            "Bluetooth speaker    4955\n",
            "dtype: int64\n"
          ]
        }
      ]
    },
    {
      "cell_type": "code",
      "source": [
        "#Apply and Map\n",
        "print(product_prices.apply(lambda x: f'{x-(x*0.2)}'))"
      ],
      "metadata": {
        "colab": {
          "base_uri": "https://localhost:8080/"
        },
        "id": "SnF3qpUV35eC",
        "outputId": "c6065584-97a8-4f28-f682-aba24d44ca6e"
      },
      "execution_count": null,
      "outputs": [
        {
          "output_type": "stream",
          "name": "stdout",
          "text": [
            "wireless Earbuds      2399.2\n",
            "smartphone           31588.0\n",
            "laptop               54319.2\n",
            "smartwatch            3950.4\n",
            "Bluetooth speaker     3964.0\n",
            "dtype: object\n"
          ]
        }
      ]
    },
    {
      "cell_type": "code",
      "source": [
        "print(product_prices.map(lambda x: f'{x}.00'))"
      ],
      "metadata": {
        "colab": {
          "base_uri": "https://localhost:8080/"
        },
        "id": "PyYt-_UE6P3O",
        "outputId": "2ad756ce-8cbc-4118-b01f-faf2e9077efc"
      },
      "execution_count": null,
      "outputs": [
        {
          "output_type": "stream",
          "name": "stdout",
          "text": [
            "wireless Earbuds      2999.00\n",
            "smartphone           39485.00\n",
            "laptop               67899.00\n",
            "smartwatch            4938.00\n",
            "Bluetooth speaker     4955.00\n",
            "dtype: object\n"
          ]
        }
      ]
    },
    {
      "cell_type": "code",
      "source": [
        "print(\"Sort by values:\\n\",product_prices.sort_values())"
      ],
      "metadata": {
        "colab": {
          "base_uri": "https://localhost:8080/"
        },
        "id": "ZtcnS67M6X1g",
        "outputId": "537380b4-4e32-4831-da85-8669fdf82727"
      },
      "execution_count": null,
      "outputs": [
        {
          "output_type": "stream",
          "name": "stdout",
          "text": [
            "Sort by values:\n",
            " wireless Earbuds      2999\n",
            "smartwatch            4938\n",
            "Bluetooth speaker     4955\n",
            "smartphone           39485\n",
            "laptop               67899\n",
            "dtype: int64\n"
          ]
        }
      ]
    },
    {
      "cell_type": "code",
      "source": [
        "print(\"Sort by index:\\n\",product_prices.sort_index())"
      ],
      "metadata": {
        "colab": {
          "base_uri": "https://localhost:8080/"
        },
        "id": "9oLFBSsS62Tb",
        "outputId": "7f995983-a01b-4f8d-8621-ea09192fbaaa"
      },
      "execution_count": null,
      "outputs": [
        {
          "output_type": "stream",
          "name": "stdout",
          "text": [
            "Sort by index:\n",
            " Bluetooth speaker     4955\n",
            "laptop               67899\n",
            "smartphone           39485\n",
            "smartwatch            4938\n",
            "wireless Earbuds      2999\n",
            "dtype: int64\n"
          ]
        }
      ]
    },
    {
      "cell_type": "code",
      "source": [
        "print(\"Sort by index:\\n\",product_prices.sort_index(ascending=False))"
      ],
      "metadata": {
        "colab": {
          "base_uri": "https://localhost:8080/"
        },
        "id": "DiOhU9GG689C",
        "outputId": "cb812cc6-93be-454c-819d-7a5d1c25f9f9"
      },
      "execution_count": null,
      "outputs": [
        {
          "output_type": "stream",
          "name": "stdout",
          "text": [
            "Sort by index:\n",
            " wireless Earbuds      2999\n",
            "smartwatch            4938\n",
            "smartphone           39485\n",
            "laptop               67899\n",
            "Bluetooth speaker     4955\n",
            "dtype: int64\n"
          ]
        }
      ]
    },
    {
      "cell_type": "code",
      "source": [
        "print(\"value Counts:\\n\",product_prices.value_counts())"
      ],
      "metadata": {
        "colab": {
          "base_uri": "https://localhost:8080/"
        },
        "id": "kksj1gfq7jdF",
        "outputId": "542b43c3-c31e-4d06-df47-57e530d24fc2"
      },
      "execution_count": null,
      "outputs": [
        {
          "output_type": "stream",
          "name": "stdout",
          "text": [
            "value Counts:\n",
            " 2999     1\n",
            "39485    1\n",
            "67899    1\n",
            "4938     1\n",
            "4955     1\n",
            "Name: count, dtype: int64\n"
          ]
        }
      ]
    },
    {
      "cell_type": "markdown",
      "source": [
        "**DataFrame**"
      ],
      "metadata": {
        "id": "I3ucU4FFDqFX"
      }
    },
    {
      "cell_type": "code",
      "source": [
        "data={\n",
        "    \"product\":[\"wireless Earbuds\",\"smartphone\",\"laptop\",\"smartwatch\",\"Bluetooth speaker\"],\n",
        "    \"brand\":[\"SoundMax\",\"TechNova\",\"Bytecore\",\"TimeTrack\",\"EchnoBoom\"],\n",
        "    \"price\":[2999,38774,3874,3834,40000],\n",
        "    \"Stock\":[50,30,40,20,60],\n",
        "    \"BestSeller\":[True,False,False,True,True],\n",
        "}\n",
        "df = pd.DataFrame(data)\n",
        "print(df)"
      ],
      "metadata": {
        "colab": {
          "base_uri": "https://localhost:8080/"
        },
        "id": "loV4rn2u8JM7",
        "outputId": "79742181-3711-40b4-91fb-d5d3e6484e6f"
      },
      "execution_count": null,
      "outputs": [
        {
          "output_type": "stream",
          "name": "stdout",
          "text": [
            "             product      brand  price  Stock  BestSeller\n",
            "0   wireless Earbuds   SoundMax   2999     50        True\n",
            "1         smartphone   TechNova  38774     30       False\n",
            "2             laptop   Bytecore   3874     40       False\n",
            "3         smartwatch  TimeTrack   3834     20        True\n",
            "4  Bluetooth speaker  EchnoBoom  40000     60        True\n"
          ]
        }
      ]
    },
    {
      "cell_type": "code",
      "source": [
        "print(\"head (first 2 rows)\\n\",df.head(2))"
      ],
      "metadata": {
        "colab": {
          "base_uri": "https://localhost:8080/"
        },
        "id": "2EmpxqWM9tWK",
        "outputId": "33232eef-8c8a-46c4-a7aa-4d3002f712be"
      },
      "execution_count": null,
      "outputs": [
        {
          "output_type": "stream",
          "name": "stdout",
          "text": [
            "head (first 2 rows)\n",
            "             product     brand  price  Stock  BestSeller\n",
            "0  wireless Earbuds  SoundMax   2999     50        True\n",
            "1        smartphone  TechNova  38774     30       False\n"
          ]
        }
      ]
    },
    {
      "cell_type": "code",
      "source": [
        "print(\"Tail(last 3 rows)\\n\",df.tail(3))"
      ],
      "metadata": {
        "colab": {
          "base_uri": "https://localhost:8080/"
        },
        "id": "IkpKDaw5-HsG",
        "outputId": "816fd2de-cd25-4e3d-c45f-92ad40fe6dcc"
      },
      "execution_count": null,
      "outputs": [
        {
          "output_type": "stream",
          "name": "stdout",
          "text": [
            "Tail(last 3 rows)\n",
            "              product      brand  price  Stock  BestSeller\n",
            "2             laptop   Bytecore   3874     40       False\n",
            "3         smartwatch  TimeTrack   3834     20        True\n",
            "4  Bluetooth speaker  EchnoBoom  40000     60        True\n"
          ]
        }
      ]
    },
    {
      "cell_type": "code",
      "source": [
        "print(\"Shape of Dataframe\",df.shape)"
      ],
      "metadata": {
        "colab": {
          "base_uri": "https://localhost:8080/"
        },
        "id": "TDWhFSbP-L3q",
        "outputId": "f0b525e9-a345-4bb8-ff04-624c1643d245"
      },
      "execution_count": null,
      "outputs": [
        {
          "output_type": "stream",
          "name": "stdout",
          "text": [
            "Shape of Dataframe (5, 5)\n"
          ]
        }
      ]
    },
    {
      "cell_type": "code",
      "source": [
        "print(\"Columns in Dataframe\",df.columns)"
      ],
      "metadata": {
        "colab": {
          "base_uri": "https://localhost:8080/"
        },
        "id": "glCkQov2_VQI",
        "outputId": "0386f948-2b34-464f-ad66-c055ae3e9e89"
      },
      "execution_count": null,
      "outputs": [
        {
          "output_type": "stream",
          "name": "stdout",
          "text": [
            "Columns in Dataframe Index(['product', 'brand', 'price', 'Stock', 'BestSeller'], dtype='object')\n"
          ]
        }
      ]
    },
    {
      "cell_type": "code",
      "source": [
        "print(\"Index of Dataframe\",df.index)"
      ],
      "metadata": {
        "colab": {
          "base_uri": "https://localhost:8080/"
        },
        "id": "-HDUD9oa_ckB",
        "outputId": "7d0e5782-43b1-465c-f7c5-acabee3b0bac"
      },
      "execution_count": null,
      "outputs": [
        {
          "output_type": "stream",
          "name": "stdout",
          "text": [
            "Index of Dataframe RangeIndex(start=0, stop=5, step=1)\n"
          ]
        }
      ]
    },
    {
      "cell_type": "code",
      "source": [
        "print(\"DataFrame Info\")\n",
        "print(df.info())"
      ],
      "metadata": {
        "colab": {
          "base_uri": "https://localhost:8080/"
        },
        "id": "f16Iu8zf_tpr",
        "outputId": "e6d2a8d3-b3a0-4838-88f0-1ed62c82abde"
      },
      "execution_count": null,
      "outputs": [
        {
          "output_type": "stream",
          "name": "stdout",
          "text": [
            "DataFrame Info\n",
            "<class 'pandas.core.frame.DataFrame'>\n",
            "RangeIndex: 5 entries, 0 to 4\n",
            "Data columns (total 5 columns):\n",
            " #   Column      Non-Null Count  Dtype \n",
            "---  ------      --------------  ----- \n",
            " 0   product     5 non-null      object\n",
            " 1   brand       5 non-null      object\n",
            " 2   price       5 non-null      int64 \n",
            " 3   Stock       5 non-null      int64 \n",
            " 4   BestSeller  5 non-null      bool  \n",
            "dtypes: bool(1), int64(2), object(2)\n",
            "memory usage: 297.0+ bytes\n",
            "None\n"
          ]
        }
      ]
    },
    {
      "cell_type": "code",
      "source": [
        "print(\"Statistical Summary:\\n\",df.describe())"
      ],
      "metadata": {
        "colab": {
          "base_uri": "https://localhost:8080/"
        },
        "id": "PgoP93iYACxC",
        "outputId": "6abff079-4745-427a-ab88-1edc1c5391a9"
      },
      "execution_count": null,
      "outputs": [
        {
          "output_type": "stream",
          "name": "stdout",
          "text": [
            "Statistical Summary:\n",
            "               price      Stock\n",
            "count      5.000000   5.000000\n",
            "mean   17896.200000  40.000000\n",
            "std    19626.223763  15.811388\n",
            "min     2999.000000  20.000000\n",
            "25%     3834.000000  30.000000\n",
            "50%     3874.000000  40.000000\n",
            "75%    38774.000000  50.000000\n",
            "max    40000.000000  60.000000\n"
          ]
        }
      ]
    },
    {
      "cell_type": "code",
      "source": [
        "print(df)\n",
        "print(df.loc[1,\"product\"])\n",
        "print(df.loc[3,\"Stock\"])\n",
        "print(df.loc[3,\"BestSeller\"])\n",
        "\n",
        "print(df.iloc[1,0])\n",
        "print(df.iloc[3,1])\n",
        "print(df.iloc[4,2])\n"
      ],
      "metadata": {
        "colab": {
          "base_uri": "https://localhost:8080/"
        },
        "id": "fjeD1Oj2Ake9",
        "outputId": "506011c5-0868-4d18-e680-96b20cc03f06"
      },
      "execution_count": null,
      "outputs": [
        {
          "output_type": "stream",
          "name": "stdout",
          "text": [
            "             product      brand  price  Stock  BestSeller\n",
            "0   wireless Earbuds   SoundMax   2999     50        True\n",
            "1         smartphone   TechNova  38774     30       False\n",
            "2             laptop   Bytecore   3874     40       False\n",
            "3         smartwatch  TimeTrack   3834     20        True\n",
            "4  Bluetooth speaker  EchnoBoom  40000     60        True\n",
            "smartphone\n",
            "20\n",
            "True\n",
            "smartphone\n",
            "TimeTrack\n",
            "40000\n"
          ]
        }
      ]
    },
    {
      "cell_type": "code",
      "source": [
        "print(\"Select 4 th row \\n\",df.iloc[4]) #To select entire row\n",
        "print(\"Select 3 th row \\n\",df.iloc[3])"
      ],
      "metadata": {
        "colab": {
          "base_uri": "https://localhost:8080/"
        },
        "id": "BpL1xW3MCswW",
        "outputId": "20f45aaa-9dd1-4470-a144-748a56141b2e"
      },
      "execution_count": null,
      "outputs": [
        {
          "output_type": "stream",
          "name": "stdout",
          "text": [
            "Select 4 th row \n",
            " product       Bluetooth speaker\n",
            "brand                 EchnoBoom\n",
            "price                     40000\n",
            "Stock                        60\n",
            "BestSeller                 True\n",
            "Name: 4, dtype: object\n",
            "Select 3 th row \n",
            " product       smartwatch\n",
            "brand          TimeTrack\n",
            "price               3834\n",
            "Stock                 20\n",
            "BestSeller          True\n",
            "Name: 3, dtype: object\n"
          ]
        }
      ]
    },
    {
      "cell_type": "code",
      "source": [
        "print(df)\n",
        "print(\"-----Using loc----\\n\",df.loc[df['BestSeller']== True])\n",
        "print(\"-----Using loc----\\n\",df.loc[df['Stock']<30])"
      ],
      "metadata": {
        "colab": {
          "base_uri": "https://localhost:8080/"
        },
        "id": "jBuchMSJEOiS",
        "outputId": "636539fd-0f9a-4165-fea6-cbe24ce01967"
      },
      "execution_count": null,
      "outputs": [
        {
          "output_type": "stream",
          "name": "stdout",
          "text": [
            "             product      brand  price  Stock  BestSeller\n",
            "0   wireless Earbuds   SoundMax   2999     50        True\n",
            "1         smartphone   TechNova  38774     30       False\n",
            "2             laptop   Bytecore   3874     40       False\n",
            "3         smartwatch  TimeTrack   3834     20        True\n",
            "4  Bluetooth speaker  EchnoBoom  40000     60        True\n",
            "-----Using loc----\n",
            "              product      brand  price  Stock  BestSeller\n",
            "0   wireless Earbuds   SoundMax   2999     50        True\n",
            "3         smartwatch  TimeTrack   3834     20        True\n",
            "4  Bluetooth speaker  EchnoBoom  40000     60        True\n",
            "-----Using loc----\n",
            "       product      brand  price  Stock  BestSeller\n",
            "3  smartwatch  TimeTrack   3834     20        True\n"
          ]
        }
      ]
    },
    {
      "cell_type": "code",
      "source": [],
      "metadata": {
        "id": "xXFN8SHQFTiZ"
      },
      "execution_count": null,
      "outputs": []
    }
  ]
}